{
  "cells": [
    {
      "cell_type": "markdown",
      "metadata": {
        "id": "KTWXM7DdvH0f"
      },
      "source": [
        "# U-Net for Image Segmentation\n",
        "Implementation of the U-Net model for segmenting medical images.\n"
      ]
    },
    {
      "cell_type": "markdown",
      "metadata": {
        "id": "NxVDF8TcvO4m"
      },
      "source": [
        "# Import necessary libraries\n"
      ]
    },
    {
      "cell_type": "code",
      "execution_count": null,
      "metadata": {
        "colab": {
          "base_uri": "https://localhost:8080/"
        },
        "id": "zK-N51-ZvR0K",
        "outputId": "252c6119-54ff-4b5e-9df9-3eac353f8524"
      },
      "outputs": [
        {
          "name": "stdout",
          "output_type": "stream",
          "text": [
            "Mounted at /content/drive\n"
          ]
        }
      ],
      "source": [
        "import torch\n",
        "import torch.nn as nn\n",
        "import os\n",
        "from torch.utils.data import Dataset, DataLoader\n",
        "from pycocotools.coco import COCO\n",
        "import torch.optim as optim\n",
        "from PIL import Image\n",
        "from torchvision import transforms\n",
        "import numpy as np\n",
        "import matplotlib.pyplot as plt\n",
        "from google.colab import drive\n",
        "drive.mount('/content/drive')"
      ]
    },
    {
      "cell_type": "markdown",
      "metadata": {
        "id": "QLzJfUYawVQJ"
      },
      "source": [
        "### Task 1: Implementing the Double Convolution Block\n",
        "\n",
        "The double convolution block is a core component of the U-Net architecture, consisting of two sets of convolutional and ReLU activation layers. This structure helps in learning more complex features at each level of the network without reducing the spatial dimensions of the feature maps.\n",
        "\n",
        "**Objective:** Implement the `double_convolution` function that takes input channels and output channels as parameters and returns a sequential container of two convolution layers each followed by a ReLU activation."
      ]
    },
    {
      "cell_type": "code",
      "execution_count": null,
      "metadata": {
        "id": "h45l3GmE-w-v"
      },
      "outputs": [],
      "source": [
        "# class DoubleConv(nn.Module):\n",
        "#   def __init__(self,in_channels,out_channels):\n",
        "#     super(self).__init__()\n",
        "#     self.conv1 = nn.Sequential(\n",
        "#         nn.Conv2d(in_channels, out_channels, kernel_size=3, padding=1),\n",
        "#         nn.ReLU,\n",
        "#         nn.Conv2d(out_channels, out_channels, kernel_size=3, padding=1),\n",
        "#         nn.ReLU\n",
        "#     )\n",
        "\n",
        "#     def forward(self,x):\n",
        "#       return self.conv1(x)"
      ]
    },
    {
      "cell_type": "code",
      "execution_count": null,
      "metadata": {
        "id": "uAe2FVu2wLNc"
      },
      "outputs": [],
      "source": [
        "def double_convolution(in_channels, out_channels):\n",
        "    conv_op = nn.Sequential(\n",
        "        nn.Conv2d(in_channels, out_channels, kernel_size=3, padding=1),\n",
        "        nn.ReLU(),\n",
        "        nn.Conv2d(out_channels, out_channels, kernel_size=3, padding=1),\n",
        "        nn.ReLU()\n",
        "    )\n",
        "    return conv_op"
      ]
    },
    {
      "cell_type": "markdown",
      "metadata": {
        "id": "QjIN80oKUXWo"
      },
      "source": [
        "### Task 2: Implementing the U-Net Architecture\n",
        "\n",
        "Building upon the double convolution block you implemented, your next challenge is to complete the architecture of U-Net. U-Net is a symmetric architecture with an encoder (contracting path), a bottleneck, and a decoder (expansive path). It also features skip connections that help recover spatial information lost during down-sampling.\n",
        "\n",
        "**Objective:** Complete the implementation of the `UNet` class by adding the necessary components for the encoder and decoder sections.\n"
      ]
    },
    {
      "cell_type": "markdown",
      "metadata": {
        "id": "OibvXo1rUTCb"
      },
      "source": [
        "#### Hints for Completing the U-Net Architecture\n",
        "\n",
        "1. **Encoder Details:**\n",
        "   - Each level in the encoder consists of a `double_convolution` followed by a `max_pool2d`. You have already defined the first two levels. Continue this pattern for the next two levels, increasing the number of channels appropriately (e.g., 256 for the third, 512 for the fourth).\n",
        "\n",
        "2. **Bottleneck:**\n",
        "   - The bottleneck does not include pooling and directly connects to the deepest layer of the encoder.\n",
        "\n",
        "3. **Decoder Details:**\n",
        "   - Each level of the decoder starts with a transpose convolution (`nn.ConvTranspose2d`) to upsample the feature map followed by a `double_convolution`. Remember to concatenate the upsampled output with the feature map from the corresponding encoder level using `torch.cat`. This is crucial for forming the skip connections that help the network learn precise localization.\n",
        "\n",
        "4. **Output Size:**\n",
        "   - Ensure the final layer reduces the number of channels to the number of classes. This is typically done with a 1x1 convolution.\n",
        "\n",
        "5. **Forward Method:**\n",
        "   - The forward method must meticulously chain all these operations ensuring the tensors are correctly sized for each operation. Debugging tips: Print the shape of tensors at each step if unsure.\n",
        "\n",
        "6. **Skip Connections:**\n",
        "   - For each layer in the decoder, use the output from the corresponding encoder layer. This helps in recovering the spatial information lost during downsampling.\n"
      ]
    },
    {
      "cell_type": "code",
      "execution_count": null,
      "metadata": {
        "id": "06PWXvUGN_YI"
      },
      "outputs": [],
      "source": [
        "class UNet(nn.Module):\n",
        "    def __init__(self, num_classes):\n",
        "        super(UNet, self).__init__()\n",
        "        self.max_pool2d = nn.MaxPool2d(kernel_size=2, stride=2)\n",
        "        self.down_convolution_1 = double_convolution(3, 64)\n",
        "        self.down_convolution_2 = double_convolution(64, 128)\n",
        "        self.down_convolution_3 = double_convolution(128, 256)\n",
        "        self.down_convolution_4 = double_convolution(256, 512)\n",
        "        self.down_convolution_5 = double_convolution(512, 1024)\n",
        "\n",
        "        self.up_transpose_1 = nn.ConvTranspose2d(1024, 512, kernel_size=2, stride=2)\n",
        "        self.up_convolution_1 = double_convolution(1024, 512)\n",
        "        self.up_transpose_2 = nn.ConvTranspose2d(512, 256, kernel_size=2, stride=2)\n",
        "        self.up_convolution_2 = double_convolution(512, 256)\n",
        "        self.up_transpose_3 = nn.ConvTranspose2d(256, 128, kernel_size=2, stride=2)\n",
        "        self.up_convolution_3 = double_convolution(256, 128)\n",
        "        self.up_transpose_4 = nn.ConvTranspose2d(128, 64, kernel_size=2, stride=2)\n",
        "        self.up_convolution_4 = double_convolution(128, 64)\n",
        "\n",
        "        self.out = nn.Conv2d(in_channels=64, out_channels=num_classes, kernel_size=1)\n",
        "\n",
        "    def forward(self, x):\n",
        "        down_1 = self.down_convolution_1(x)\n",
        "        down_2 = self.max_pool2d(down_1)\n",
        "        down_3 = self.down_convolution_2(down_2)\n",
        "        down_4 = self.max_pool2d(down_3)\n",
        "        down_5 = self.down_convolution_3(down_4)\n",
        "        down_6 = self.max_pool2d(down_5)\n",
        "        down_7 = self.down_convolution_4(down_6)\n",
        "        down_8 = self.max_pool2d(down_7)\n",
        "        down_9 = self.down_convolution_5(down_8)\n",
        "\n",
        "        up_1 = self.up_transpose_1(down_9)\n",
        "        x = self.up_convolution_1(torch.cat([down_7, up_1], dim=1))\n",
        "\n",
        "        up_2 = self.up_transpose_2(x)\n",
        "        x = self.up_convolution_2(torch.cat([down_5, up_2], dim=1))\n",
        "\n",
        "        up_3 = self.up_transpose_3(x)\n",
        "        x = self.up_convolution_3(torch.cat([down_3, up_3], dim=1))\n",
        "\n",
        "        up_4 = self.up_transpose_4(x)\n",
        "        x = self.up_convolution_4(torch.cat([down_1, up_4], dim=1))\n",
        "\n",
        "        out = self.out(x)\n",
        "        return out\n",
        "\n",
        "\n",
        "num_classes = 1\n",
        "model = UNet(num_classes=num_classes)"
      ]
    },
    {
      "cell_type": "code",
      "execution_count": null,
      "metadata": {
        "colab": {
          "base_uri": "https://localhost:8080/"
        },
        "id": "tSYM38Dz4ILg",
        "outputId": "1fd30d66-fecc-46e2-cd66-99eaf52c95a7"
      },
      "outputs": [
        {
          "name": "stdout",
          "output_type": "stream",
          "text": [
            "Collecting torchinfo\n",
            "  Downloading torchinfo-1.8.0-py3-none-any.whl (23 kB)\n",
            "Installing collected packages: torchinfo\n",
            "Successfully installed torchinfo-1.8.0\n"
          ]
        }
      ],
      "source": [
        "!pip install torchinfo\n",
        "from torchinfo import summary"
      ]
    },
    {
      "cell_type": "code",
      "execution_count": null,
      "metadata": {
        "colab": {
          "base_uri": "https://localhost:8080/"
        },
        "id": "vBalcV5m4CeX",
        "outputId": "9b560a78-9294-49ad-ee2e-bf48425e3a59"
      },
      "outputs": [
        {
          "data": {
            "text/plain": [
              "==========================================================================================\n",
              "Layer (type:depth-idx)                   Output Shape              Param #\n",
              "==========================================================================================\n",
              "UNet                                     [1, 1, 224, 224]          --\n",
              "├─Sequential: 1-1                        [1, 64, 224, 224]         --\n",
              "│    └─Conv2d: 2-1                       [1, 64, 224, 224]         1,792\n",
              "│    └─ReLU: 2-2                         [1, 64, 224, 224]         --\n",
              "│    └─Conv2d: 2-3                       [1, 64, 224, 224]         36,928\n",
              "│    └─ReLU: 2-4                         [1, 64, 224, 224]         --\n",
              "├─MaxPool2d: 1-2                         [1, 64, 112, 112]         --\n",
              "├─Sequential: 1-3                        [1, 128, 112, 112]        --\n",
              "│    └─Conv2d: 2-5                       [1, 128, 112, 112]        73,856\n",
              "│    └─ReLU: 2-6                         [1, 128, 112, 112]        --\n",
              "│    └─Conv2d: 2-7                       [1, 128, 112, 112]        147,584\n",
              "│    └─ReLU: 2-8                         [1, 128, 112, 112]        --\n",
              "├─MaxPool2d: 1-4                         [1, 128, 56, 56]          --\n",
              "├─Sequential: 1-5                        [1, 256, 56, 56]          --\n",
              "│    └─Conv2d: 2-9                       [1, 256, 56, 56]          295,168\n",
              "│    └─ReLU: 2-10                        [1, 256, 56, 56]          --\n",
              "│    └─Conv2d: 2-11                      [1, 256, 56, 56]          590,080\n",
              "│    └─ReLU: 2-12                        [1, 256, 56, 56]          --\n",
              "├─MaxPool2d: 1-6                         [1, 256, 28, 28]          --\n",
              "├─Sequential: 1-7                        [1, 512, 28, 28]          --\n",
              "│    └─Conv2d: 2-13                      [1, 512, 28, 28]          1,180,160\n",
              "│    └─ReLU: 2-14                        [1, 512, 28, 28]          --\n",
              "│    └─Conv2d: 2-15                      [1, 512, 28, 28]          2,359,808\n",
              "│    └─ReLU: 2-16                        [1, 512, 28, 28]          --\n",
              "├─MaxPool2d: 1-8                         [1, 512, 14, 14]          --\n",
              "├─Sequential: 1-9                        [1, 1024, 14, 14]         --\n",
              "│    └─Conv2d: 2-17                      [1, 1024, 14, 14]         4,719,616\n",
              "│    └─ReLU: 2-18                        [1, 1024, 14, 14]         --\n",
              "│    └─Conv2d: 2-19                      [1, 1024, 14, 14]         9,438,208\n",
              "│    └─ReLU: 2-20                        [1, 1024, 14, 14]         --\n",
              "├─ConvTranspose2d: 1-10                  [1, 512, 28, 28]          2,097,664\n",
              "├─Sequential: 1-11                       [1, 512, 28, 28]          --\n",
              "│    └─Conv2d: 2-21                      [1, 512, 28, 28]          4,719,104\n",
              "│    └─ReLU: 2-22                        [1, 512, 28, 28]          --\n",
              "│    └─Conv2d: 2-23                      [1, 512, 28, 28]          2,359,808\n",
              "│    └─ReLU: 2-24                        [1, 512, 28, 28]          --\n",
              "├─ConvTranspose2d: 1-12                  [1, 256, 56, 56]          524,544\n",
              "├─Sequential: 1-13                       [1, 256, 56, 56]          --\n",
              "│    └─Conv2d: 2-25                      [1, 256, 56, 56]          1,179,904\n",
              "│    └─ReLU: 2-26                        [1, 256, 56, 56]          --\n",
              "│    └─Conv2d: 2-27                      [1, 256, 56, 56]          590,080\n",
              "│    └─ReLU: 2-28                        [1, 256, 56, 56]          --\n",
              "├─ConvTranspose2d: 1-14                  [1, 128, 112, 112]        131,200\n",
              "├─Sequential: 1-15                       [1, 128, 112, 112]        --\n",
              "│    └─Conv2d: 2-29                      [1, 128, 112, 112]        295,040\n",
              "│    └─ReLU: 2-30                        [1, 128, 112, 112]        --\n",
              "│    └─Conv2d: 2-31                      [1, 128, 112, 112]        147,584\n",
              "│    └─ReLU: 2-32                        [1, 128, 112, 112]        --\n",
              "├─ConvTranspose2d: 1-16                  [1, 64, 224, 224]         32,832\n",
              "├─Sequential: 1-17                       [1, 64, 224, 224]         --\n",
              "│    └─Conv2d: 2-33                      [1, 64, 224, 224]         73,792\n",
              "│    └─ReLU: 2-34                        [1, 64, 224, 224]         --\n",
              "│    └─Conv2d: 2-35                      [1, 64, 224, 224]         36,928\n",
              "│    └─ReLU: 2-36                        [1, 64, 224, 224]         --\n",
              "├─Conv2d: 1-18                           [1, 1, 224, 224]          65\n",
              "==========================================================================================\n",
              "Total params: 31,031,745\n",
              "Trainable params: 31,031,745\n",
              "Non-trainable params: 0\n",
              "Total mult-adds (G): 41.84\n",
              "==========================================================================================\n",
              "Input size (MB): 0.60\n",
              "Forward/backward pass size (MB): 244.46\n",
              "Params size (MB): 124.13\n",
              "Estimated Total Size (MB): 369.19\n",
              "=========================================================================================="
            ]
          },
          "execution_count": 5,
          "metadata": {},
          "output_type": "execute_result"
        }
      ],
      "source": [
        "summary(model=model,input_size = (1,3,224,224),)"
      ]
    },
    {
      "cell_type": "markdown",
      "metadata": {
        "id": "zZeYr64QUhyC"
      },
      "source": [
        "## Dataset Preparation\n",
        "Using the Brain Tumor Dataset, which is annotated in COCO format. The dataset class loads images and corresponding segmentation masks.\n"
      ]
    },
    {
      "cell_type": "code",
      "execution_count": null,
      "metadata": {
        "colab": {
          "base_uri": "https://localhost:8080/"
        },
        "id": "xJQl7FkuORe-",
        "outputId": "ed0b81f0-7a4f-45bc-f420-2a9795d98684"
      },
      "outputs": [
        {
          "name": "stdout",
          "output_type": "stream",
          "text": [
            "loading annotations into memory...\n",
            "Done (t=2.46s)\n",
            "creating index...\n",
            "index created!\n"
          ]
        }
      ],
      "source": [
        "class BrainTumorDataset(Dataset):\n",
        "    def __init__(self, root_dir, transform=None):\n",
        "        self.root_dir = root_dir\n",
        "        self.ann_file = os.path.join(root_dir, '_annotations.coco.json')\n",
        "        self.coco = COCO(self.ann_file)\n",
        "        self.transform = transform\n",
        "        self.ids = list(self.coco.imgs.keys())\n",
        "\n",
        "    def __len__(self):\n",
        "        return len(self.ids)\n",
        "\n",
        "    def __getitem__(self, idx):\n",
        "        img_id = self.ids[idx]\n",
        "        ann_ids = self.coco.getAnnIds(imgIds=img_id)\n",
        "        anns = self.coco.loadAnns(ann_ids)\n",
        "\n",
        "        # Load image\n",
        "        img_info = self.coco.loadImgs(img_id)[0]\n",
        "        img_path = os.path.join(self.root_dir, img_info['file_name'])\n",
        "        image = Image.open(img_path).convert(\"RGB\")\n",
        "\n",
        "        # Create mask\n",
        "        mask = np.zeros((img_info['height'], img_info['width']), dtype=np.uint8)\n",
        "        for ann in anns:\n",
        "            mask = np.maximum(mask, self.coco.annToMask(ann))\n",
        "\n",
        "        if self.transform is not None:\n",
        "            image = self.transform(image)\n",
        "            mask = torch.tensor(mask, dtype=torch.float32).unsqueeze(0)  # Convert mask to tensor and add channel dimension\n",
        "\n",
        "        return image, mask\n",
        "\n",
        "# Define transformations\n",
        "transform = transforms.Compose([\n",
        "    transforms.ToTensor(),  # Convert PIL image to tensor\n",
        "    transforms.Normalize(mean=[0.485, 0.456, 0.406], std=[0.229, 0.224, 0.225]),  # Normalize\n",
        "])\n",
        "\n",
        "# Define dataset and dataloader\n",
        "root_dir = '/content/drive/MyDrive/Brain Tumor Kaggle Dataset/valid'  # Directory containing all the images and the annotations.json file\n",
        "\n",
        "dataset = BrainTumorDataset(root_dir=root_dir, transform=transform)\n",
        "dataloader = DataLoader(dataset, batch_size=4, shuffle=True, num_workers=2)"
      ]
    },
    {
      "cell_type": "markdown",
      "metadata": {
        "id": "hmPRtZ24UxLf"
      },
      "source": [
        "## Training the U-Net Model\n",
        "Training the U-Net model on the Brain Tumor Dataset. The training loop involves feeding the images through the model, computing the loss, and updating the model weights.\n"
      ]
    },
    {
      "cell_type": "code",
      "execution_count": null,
      "metadata": {
        "colab": {
          "base_uri": "https://localhost:8080/",
          "height": 211
        },
        "id": "A1l0nzNHQL3y",
        "outputId": "d3dc7f13-6e07-4f92-9906-d055ed30463e"
      },
      "outputs": [
        {
          "ename": "KeyboardInterrupt",
          "evalue": "",
          "output_type": "error",
          "traceback": [
            "\u001b[0;31m---------------------------------------------------------------------------\u001b[0m",
            "\u001b[0;31mKeyboardInterrupt\u001b[0m                         Traceback (most recent call last)",
            "\u001b[0;32m<ipython-input-7-d6c43bc1ecf9>\u001b[0m in \u001b[0;36m<cell line: 11>\u001b[0;34m()\u001b[0m\n\u001b[1;32m     23\u001b[0m         \u001b[0moptimizer\u001b[0m\u001b[0;34m.\u001b[0m\u001b[0mstep\u001b[0m\u001b[0;34m(\u001b[0m\u001b[0;34m)\u001b[0m\u001b[0;34m\u001b[0m\u001b[0;34m\u001b[0m\u001b[0m\n\u001b[1;32m     24\u001b[0m \u001b[0;34m\u001b[0m\u001b[0m\n\u001b[0;32m---> 25\u001b[0;31m         \u001b[0mepoch_loss\u001b[0m \u001b[0;34m+=\u001b[0m \u001b[0mloss\u001b[0m\u001b[0;34m.\u001b[0m\u001b[0mitem\u001b[0m\u001b[0;34m(\u001b[0m\u001b[0;34m)\u001b[0m\u001b[0;34m\u001b[0m\u001b[0;34m\u001b[0m\u001b[0m\n\u001b[0m\u001b[1;32m     26\u001b[0m \u001b[0;34m\u001b[0m\u001b[0m\n\u001b[1;32m     27\u001b[0m     \u001b[0mprint\u001b[0m\u001b[0;34m(\u001b[0m\u001b[0;34mf\"Epoch {epoch+1}/{num_epochs}, Loss: {epoch_loss/len(dataloader)}\"\u001b[0m\u001b[0;34m)\u001b[0m\u001b[0;34m\u001b[0m\u001b[0;34m\u001b[0m\u001b[0m\n",
            "\u001b[0;31mKeyboardInterrupt\u001b[0m: "
          ]
        }
      ],
      "source": [
        "# Define loss function and optimizer\n",
        "criterion = nn.BCEWithLogitsLoss()  # Binary Cross Entropy Loss\n",
        "optimizer = optim.Adam(model.parameters(), lr=0.001)\n",
        "\n",
        "# Training setup\n",
        "num_epochs = 25\n",
        "device = torch.device(\"cuda\" if torch.cuda.is_available() else \"cpu\")\n",
        "model.to(device)\n",
        "\n",
        "# Training loop\n",
        "for epoch in range(num_epochs):\n",
        "    model.train()\n",
        "    epoch_loss = 0\n",
        "\n",
        "    for images, masks in dataloader:\n",
        "        images = images.to(device)\n",
        "        masks = masks.to(device)\n",
        "\n",
        "        optimizer.zero_grad()\n",
        "        outputs = model(images)\n",
        "        loss = criterion(outputs, masks)\n",
        "        loss.backward()\n",
        "        optimizer.step()\n",
        "\n",
        "        epoch_loss += loss.item()\n",
        "\n",
        "    print(f\"Epoch {epoch+1}/{num_epochs}, Loss: {epoch_loss/len(dataloader)}\")\n",
        "\n",
        "print(\"Training finished.\")"
      ]
    },
    {
      "cell_type": "markdown",
      "metadata": {
        "id": "3_nnakC5U31d"
      },
      "source": [
        "## Visualizing Results\n",
        "We will visualize some sample images and their corresponding predicted masks to see how well the model performs.\n"
      ]
    },
    {
      "cell_type": "code",
      "execution_count": null,
      "metadata": {
        "colab": {
          "base_uri": "https://localhost:8080/",
          "height": 325
        },
        "id": "ZNFXYihMVDRh",
        "outputId": "131ab748-9b19-45c1-95bb-953defac81d1"
      },
      "outputs": [
        {
          "name": "stderr",
          "output_type": "stream",
          "text": [
            "WARNING:matplotlib.image:Clipping input data to the valid range for imshow with RGB data ([0..1] for floats or [0..255] for integers).\n"
          ]
        },
        {
          "data": {
            "image/png": "[encoded data removed]",
            "text/plain": [
              "<Figure size 640x480 with 2 Axes>"
            ]
          },
          "metadata": {},
          "output_type": "display_data"
        }
      ],
      "source": [
        "# Function to display an image and its mask\n",
        "def show_sample(image, mask):\n",
        "    fig, ax = plt.subplots(1, 2)\n",
        "    ax[0].imshow(image.permute(1, 2, 0))  # Convert from (C, H, W) to (H, W, C)\n",
        "    ax[0].set_title('Image')\n",
        "    ax[1].imshow(mask.squeeze(0), cmap='gray')  # Remove the channel dimension\n",
        "    ax[1].set_title('Mask')\n",
        "    plt.show()\n",
        "\n",
        "# Check a sample\n",
        "data_iter = iter(dataloader)\n",
        "images, masks = next(data_iter)\n",
        "show_sample(images[0], masks[0])"
      ]
    }
  ],
  "metadata": {
    "accelerator": "GPU",
    "colab": {
      "gpuType": "T4",
      "provenance": []
    },
    "kernelspec": {
      "display_name": "Python 3",
      "name": "python3"
    },
    "language_info": {
      "name": "python"
    }
  },
  "nbformat": 4,
  "nbformat_minor": 0
}
